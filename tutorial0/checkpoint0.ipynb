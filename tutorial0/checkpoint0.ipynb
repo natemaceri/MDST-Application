{
 "cells": [
  {
   "cell_type": "markdown",
   "id": "743170da",
   "metadata": {
    "colab_type": "text",
    "id": "0a8IYAJUshu1"
   },
   "source": [
    "# Checkpoint 0 "
   ]
  },
  {
   "cell_type": "markdown",
   "id": "2a7ddfc8",
   "metadata": {},
   "source": [
    "These exercises are a mix of Python and Pandas practice. Most should be no more than a few lines of code! "
   ]
  },
  {
   "cell_type": "code",
   "execution_count": 1,
   "id": "934b79fb",
   "metadata": {
    "colab": {},
    "colab_type": "code",
    "execution": {
     "iopub.execute_input": "2023-09-13T19:55:18.201823Z",
     "iopub.status.busy": "2023-09-13T19:55:18.201339Z",
     "iopub.status.idle": "2023-09-13T19:55:18.210151Z",
     "shell.execute_reply": "2023-09-13T19:55:18.209544Z"
    },
    "id": "Jo6wuTgkshu1"
   },
   "outputs": [],
   "source": [
    "# here is a Python list:\n",
    "\n",
    "a = [1, 2, 3, 4, 5, 6]\n"
   ]
  },
  {
   "cell_type": "code",
   "execution_count": 2,
   "id": "779d96b1",
   "metadata": {
    "execution": {
     "iopub.execute_input": "2023-09-13T19:55:18.213293Z",
     "iopub.status.busy": "2023-09-13T19:55:18.213045Z",
     "iopub.status.idle": "2023-09-13T19:55:18.215672Z",
     "shell.execute_reply": "2023-09-13T19:55:18.215175Z"
    }
   },
   "outputs": [],
   "source": [
    "# get a list containing the last 3 elements of a\n",
    "# Yes, you can just type out [4, 5, 6] but we really want to see you demonstrate you know how to use list slicing in Python"
   ]
  },
  {
   "cell_type": "code",
   "execution_count": 3,
   "id": "b6a54def",
   "metadata": {
    "execution": {
     "iopub.execute_input": "2023-09-13T19:55:18.218232Z",
     "iopub.status.busy": "2023-09-13T19:55:18.218028Z",
     "iopub.status.idle": "2023-09-13T19:55:18.220460Z",
     "shell.execute_reply": "2023-09-13T19:55:18.219991Z"
    }
   },
   "outputs": [],
   "source": [
    "# create a list of numbers from 1 to 20"
   ]
  },
  {
   "cell_type": "code",
   "execution_count": 4,
   "id": "487873ac",
   "metadata": {
    "execution": {
     "iopub.execute_input": "2023-09-13T19:55:18.222856Z",
     "iopub.status.busy": "2023-09-13T19:55:18.222674Z",
     "iopub.status.idle": "2023-09-13T19:55:18.224790Z",
     "shell.execute_reply": "2023-09-13T19:55:18.224348Z"
    }
   },
   "outputs": [],
   "source": [
    "# now get a list with only the even numbers between 1 and 100\n",
    "# you may or may not make use of the list you made in the last cell"
   ]
  },
  {
   "cell_type": "code",
   "execution_count": 5,
   "id": "3d4bb5dd",
   "metadata": {
    "execution": {
     "iopub.execute_input": "2023-09-13T19:55:18.227287Z",
     "iopub.status.busy": "2023-09-13T19:55:18.227085Z",
     "iopub.status.idle": "2023-09-13T19:55:18.229308Z",
     "shell.execute_reply": "2023-09-13T19:55:18.228932Z"
    }
   },
   "outputs": [],
   "source": [
    "# write a function that takes two numbers as arguments\n",
    "# and returns the first number divided by the second"
   ]
  },
  {
   "cell_type": "code",
   "execution_count": 6,
   "id": "b93669fa",
   "metadata": {
    "execution": {
     "iopub.execute_input": "2023-09-13T19:55:18.231368Z",
     "iopub.status.busy": "2023-09-13T19:55:18.231201Z",
     "iopub.status.idle": "2023-09-13T19:55:18.233274Z",
     "shell.execute_reply": "2023-09-13T19:55:18.232826Z"
    }
   },
   "outputs": [],
   "source": [
    "# write a function that takes a string as input\n",
    "# and return that string in all caps"
   ]
  },
  {
   "cell_type": "code",
   "execution_count": 7,
   "id": "f55df04e",
   "metadata": {
    "execution": {
     "iopub.execute_input": "2023-09-13T19:55:18.235280Z",
     "iopub.status.busy": "2023-09-13T19:55:18.235121Z",
     "iopub.status.idle": "2023-09-13T19:55:18.237311Z",
     "shell.execute_reply": "2023-09-13T19:55:18.236931Z"
    }
   },
   "outputs": [],
   "source": [
    "# fizzbuzz\n",
    "# you will need to use both iteration and control flow \n",
    "# go through all numbers from 1 to 30 in order\n",
    "# if the number is a multiple of 3, print fizz\n",
    "# if the number is a multiple of 5, print buzz\n",
    "# if the number is a multiple of 3 and 5, print fizzbuzz and NOTHING ELSE\n",
    "# if the number is neither a multiple of 3 nor a multiple of 5, print the number"
   ]
  },
  {
   "cell_type": "code",
   "execution_count": 8,
   "id": "78aace0b",
   "metadata": {
    "execution": {
     "iopub.execute_input": "2023-09-13T19:55:18.239205Z",
     "iopub.status.busy": "2023-09-13T19:55:18.239064Z",
     "iopub.status.idle": "2023-09-13T19:55:18.241003Z",
     "shell.execute_reply": "2023-09-13T19:55:18.240650Z"
    }
   },
   "outputs": [],
   "source": [
    "# create a dictionary that reflects the following menu pricing (taken from Ahmo's)\n",
    "# Gyro: $9 \n",
    "# Burger: $9\n",
    "# Greek Salad: $8\n",
    "# Philly Steak: $10"
   ]
  },
  {
   "cell_type": "code",
   "execution_count": 9,
   "id": "08d1d474",
   "metadata": {
    "colab": {},
    "colab_type": "code",
    "execution": {
     "iopub.execute_input": "2023-09-13T19:55:18.242860Z",
     "iopub.status.busy": "2023-09-13T19:55:18.242718Z",
     "iopub.status.idle": "2023-09-13T19:55:18.244542Z",
     "shell.execute_reply": "2023-09-13T19:55:18.244208Z"
    },
    "id": "WzCQ5HOJshvA"
   },
   "outputs": [],
   "source": [
    "# load in the \"starbucks.csv\" dataset\n",
    "# refer to how we read the cereal.csv dataset in the tutorial\n"
   ]
  },
  {
   "cell_type": "code",
   "execution_count": 10,
   "id": "68210b5f",
   "metadata": {
    "execution": {
     "iopub.execute_input": "2023-09-13T19:55:18.246545Z",
     "iopub.status.busy": "2023-09-13T19:55:18.246407Z",
     "iopub.status.idle": "2023-09-13T19:55:18.248142Z",
     "shell.execute_reply": "2023-09-13T19:55:18.247856Z"
    }
   },
   "outputs": [],
   "source": [
    "# output the calories, sugars, and protein columns only of every 40th row. "
   ]
  },
  {
   "cell_type": "code",
   "execution_count": 11,
   "id": "ac0f0c12",
   "metadata": {
    "execution": {
     "iopub.execute_input": "2023-09-13T19:55:18.249752Z",
     "iopub.status.busy": "2023-09-13T19:55:18.249630Z",
     "iopub.status.idle": "2023-09-13T19:55:18.251368Z",
     "shell.execute_reply": "2023-09-13T19:55:18.251064Z"
    }
   },
   "outputs": [],
   "source": [
    "# select all rows with more than and including 400 calories"
   ]
  },
  {
   "cell_type": "code",
   "execution_count": 12,
   "id": "ee8f8241",
   "metadata": {
    "execution": {
     "iopub.execute_input": "2023-09-13T19:55:18.253060Z",
     "iopub.status.busy": "2023-09-13T19:55:18.252933Z",
     "iopub.status.idle": "2023-09-13T19:55:18.254668Z",
     "shell.execute_reply": "2023-09-13T19:55:18.254341Z"
    }
   },
   "outputs": [],
   "source": [
    "# select all rows whose vitamin c content is higher than the iron content"
   ]
  },
  {
   "cell_type": "code",
   "execution_count": 13,
   "id": "d4de48bb",
   "metadata": {
    "execution": {
     "iopub.execute_input": "2023-09-13T19:55:18.256290Z",
     "iopub.status.busy": "2023-09-13T19:55:18.256183Z",
     "iopub.status.idle": "2023-09-13T19:55:18.257820Z",
     "shell.execute_reply": "2023-09-13T19:55:18.257545Z"
    }
   },
   "outputs": [],
   "source": [
    "# create a new column containing the caffeine per calories of each drink"
   ]
  },
  {
   "cell_type": "code",
   "execution_count": 14,
   "id": "5a706278",
   "metadata": {
    "colab": {},
    "colab_type": "code",
    "execution": {
     "iopub.execute_input": "2023-09-13T19:55:18.259297Z",
     "iopub.status.busy": "2023-09-13T19:55:18.259193Z",
     "iopub.status.idle": "2023-09-13T19:55:18.260791Z",
     "shell.execute_reply": "2023-09-13T19:55:18.260526Z"
    },
    "id": "rIoxaSxHshvB"
   },
   "outputs": [],
   "source": [
    "# what is the average calorie across all items?\n"
   ]
  },
  {
   "cell_type": "code",
   "execution_count": 15,
   "id": "8913e1d1",
   "metadata": {
    "colab": {},
    "colab_type": "code",
    "execution": {
     "iopub.execute_input": "2023-09-13T19:55:18.262214Z",
     "iopub.status.busy": "2023-09-13T19:55:18.262130Z",
     "iopub.status.idle": "2023-09-13T19:55:18.263673Z",
     "shell.execute_reply": "2023-09-13T19:55:18.263423Z"
    },
    "id": "ABX7i49FshvD"
   },
   "outputs": [],
   "source": [
    "# how many different categories of beverages are there?\n"
   ]
  },
  {
   "cell_type": "code",
   "execution_count": 16,
   "id": "c492d0b5",
   "metadata": {
    "colab": {},
    "colab_type": "code",
    "execution": {
     "iopub.execute_input": "2023-09-13T19:55:18.265097Z",
     "iopub.status.busy": "2023-09-13T19:55:18.265015Z",
     "iopub.status.idle": "2023-09-13T19:55:18.266615Z",
     "shell.execute_reply": "2023-09-13T19:55:18.266362Z"
    },
    "id": "P9QatZAzshvE"
   },
   "outputs": [],
   "source": [
    "# what is the average # calories for each beverage category?\n"
   ]
  }
 ],
 "metadata": {
  "kernelspec": {
   "display_name": "Python 3.9.0 64-bit",
   "language": "python",
   "name": "python3"
  },
  "language_info": {
   "codemirror_mode": {
    "name": "ipython",
    "version": 3
   },
   "file_extension": ".py",
   "mimetype": "text/x-python",
   "name": "python",
   "nbconvert_exporter": "python",
   "pygments_lexer": "ipython3",
   "version": "3.11.5"
  },
  "vscode": {
   "interpreter": {
    "hash": "6cf8df3ff69f85f626faf55c10df6fe2cb9d1236b4dc73844ee4dc01369c2c99"
   }
  }
 },
 "nbformat": 4,
 "nbformat_minor": 5
}
