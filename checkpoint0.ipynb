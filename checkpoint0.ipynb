{
  "cells": [
    {
      "cell_type": "markdown",
      "metadata": {
        "id": "view-in-github",
        "colab_type": "text"
      },
      "source": [
        "<a href=\"https://colab.research.google.com/github/natemaceri/MDST-Application/blob/main/checkpoint0.ipynb\" target=\"_parent\"><img src=\"https://colab.research.google.com/assets/colab-badge.svg\" alt=\"Open In Colab\"/></a>"
      ]
    },
    {
      "cell_type": "markdown",
      "id": "743170da",
      "metadata": {
        "id": "743170da"
      },
      "source": [
        "# Checkpoint 0"
      ]
    },
    {
      "cell_type": "markdown",
      "id": "2a7ddfc8",
      "metadata": {
        "id": "2a7ddfc8"
      },
      "source": [
        "These exercises are a mix of Python and Pandas practice. Most should be no more than a few lines of code!"
      ]
    },
    {
      "cell_type": "code",
      "execution_count": 15,
      "id": "934b79fb",
      "metadata": {
        "execution": {
          "iopub.execute_input": "2023-09-13T19:55:18.201823Z",
          "iopub.status.busy": "2023-09-13T19:55:18.201339Z",
          "iopub.status.idle": "2023-09-13T19:55:18.210151Z",
          "shell.execute_reply": "2023-09-13T19:55:18.209544Z"
        },
        "id": "934b79fb"
      },
      "outputs": [],
      "source": [
        "# here is a Python list:\n",
        "\n",
        "a = [1, 2, 3, 4, 5, 6]\n"
      ]
    },
    {
      "cell_type": "code",
      "execution_count": 42,
      "id": "779d96b1",
      "metadata": {
        "execution": {
          "iopub.execute_input": "2023-09-13T19:55:18.213293Z",
          "iopub.status.busy": "2023-09-13T19:55:18.213045Z",
          "iopub.status.idle": "2023-09-13T19:55:18.215672Z",
          "shell.execute_reply": "2023-09-13T19:55:18.215175Z"
        },
        "colab": {
          "base_uri": "https://localhost:8080/"
        },
        "id": "779d96b1",
        "outputId": "86e8f92c-9974-4a66-e78e-bf9339a6add8"
      },
      "outputs": [
        {
          "output_type": "stream",
          "name": "stdout",
          "text": [
            "[4, 5, 6]\n"
          ]
        }
      ],
      "source": [
        "# get a list containing the last 3 elements of a\n",
        "# Yes, you can just type out [4, 5, 6] but we really want to see you demonstrate you know how to use list slicing in Python\n",
        "list_1 = a[3:6]\n",
        "print(list_1)"
      ]
    },
    {
      "cell_type": "code",
      "execution_count": 44,
      "id": "b6a54def",
      "metadata": {
        "execution": {
          "iopub.execute_input": "2023-09-13T19:55:18.218232Z",
          "iopub.status.busy": "2023-09-13T19:55:18.218028Z",
          "iopub.status.idle": "2023-09-13T19:55:18.220460Z",
          "shell.execute_reply": "2023-09-13T19:55:18.219991Z"
        },
        "colab": {
          "base_uri": "https://localhost:8080/"
        },
        "id": "b6a54def",
        "outputId": "604c6527-8819-4bc3-ba5d-c658e7ec58f8"
      },
      "outputs": [
        {
          "output_type": "stream",
          "name": "stdout",
          "text": [
            "[1, 2, 3, 4, 5, 6, 7, 8, 9, 10, 11, 12, 13, 14, 15, 16, 17, 18, 19, 20]\n"
          ]
        }
      ],
      "source": [
        "# create a list of numbers from 1 to 20\n",
        "list = []\n",
        "for i in range(1, 21):\n",
        "  list.append(i)\n",
        "print(list)"
      ]
    },
    {
      "cell_type": "code",
      "execution_count": 34,
      "id": "487873ac",
      "metadata": {
        "execution": {
          "iopub.execute_input": "2023-09-13T19:55:18.222856Z",
          "iopub.status.busy": "2023-09-13T19:55:18.222674Z",
          "iopub.status.idle": "2023-09-13T19:55:18.224790Z",
          "shell.execute_reply": "2023-09-13T19:55:18.224348Z"
        },
        "colab": {
          "base_uri": "https://localhost:8080/"
        },
        "id": "487873ac",
        "outputId": "8bbed692-fab5-4f33-b4cf-81879a165126"
      },
      "outputs": [
        {
          "output_type": "stream",
          "name": "stdout",
          "text": [
            "[2, 4, 6, 8, 10, 12, 14, 16, 18, 20, 22, 24, 26, 28, 30, 32, 34, 36, 38, 40, 42, 44, 46, 48, 50, 52, 54, 56, 58, 60, 62, 64, 66, 68, 70, 72, 74, 76, 78, 80, 82, 84, 86, 88, 90, 92, 94, 96, 98, 100]\n"
          ]
        }
      ],
      "source": [
        "# now get a list with only the even numbers between 1 and 100\n",
        "# you may or may not make use of the list you made in the last cell\n",
        "list = []\n",
        "for i in range(1, 101):\n",
        "  if (i % 2 == 0):\n",
        "    list.append(i)\n",
        "print(list)"
      ]
    },
    {
      "cell_type": "code",
      "execution_count": 36,
      "id": "3d4bb5dd",
      "metadata": {
        "execution": {
          "iopub.execute_input": "2023-09-13T19:55:18.227287Z",
          "iopub.status.busy": "2023-09-13T19:55:18.227085Z",
          "iopub.status.idle": "2023-09-13T19:55:18.229308Z",
          "shell.execute_reply": "2023-09-13T19:55:18.228932Z"
        },
        "colab": {
          "base_uri": "https://localhost:8080/"
        },
        "id": "3d4bb5dd",
        "outputId": "39346cae-d04e-4ea0-c1d0-fb67e3eb7344"
      },
      "outputs": [
        {
          "output_type": "stream",
          "name": "stdout",
          "text": [
            "2.0\n"
          ]
        }
      ],
      "source": [
        "# write a function that takes two numbers as arguments\n",
        "# and returns the first number divided by the second\n",
        "def divide(x, y):\n",
        "    return x / y\n",
        "print(divide(4, 2))"
      ]
    },
    {
      "cell_type": "code",
      "execution_count": 40,
      "id": "b93669fa",
      "metadata": {
        "execution": {
          "iopub.execute_input": "2023-09-13T19:55:18.231368Z",
          "iopub.status.busy": "2023-09-13T19:55:18.231201Z",
          "iopub.status.idle": "2023-09-13T19:55:18.233274Z",
          "shell.execute_reply": "2023-09-13T19:55:18.232826Z"
        },
        "colab": {
          "base_uri": "https://localhost:8080/"
        },
        "id": "b93669fa",
        "outputId": "c49a2363-13e8-4dce-f447-82caffe3266a"
      },
      "outputs": [
        {
          "output_type": "stream",
          "name": "stdout",
          "text": [
            "MDST\n"
          ]
        }
      ],
      "source": [
        "# write a function that takes a string as input\n",
        "# and return that string in all caps\n",
        "def capitalize(str):\n",
        "    cap_str = str.upper()\n",
        "    return cap_str\n",
        "str1 = \"mdst\"\n",
        "print(capitalize(str1))\n"
      ]
    },
    {
      "cell_type": "code",
      "execution_count": 52,
      "id": "f55df04e",
      "metadata": {
        "execution": {
          "iopub.execute_input": "2023-09-13T19:55:18.235280Z",
          "iopub.status.busy": "2023-09-13T19:55:18.235121Z",
          "iopub.status.idle": "2023-09-13T19:55:18.237311Z",
          "shell.execute_reply": "2023-09-13T19:55:18.236931Z"
        },
        "colab": {
          "base_uri": "https://localhost:8080/"
        },
        "id": "f55df04e",
        "outputId": "67869ec9-bb85-45a5-a518-734cbccfd932"
      },
      "outputs": [
        {
          "output_type": "stream",
          "name": "stdout",
          "text": [
            "1\n",
            "2\n",
            "fizz\n",
            "4\n",
            "buzz\n",
            "fizz\n",
            "7\n",
            "8\n",
            "fizz\n",
            "buzz\n",
            "11\n",
            "fizz\n",
            "13\n",
            "14\n",
            "fizzbuzz\n",
            "16\n",
            "17\n",
            "fizz\n",
            "19\n",
            "buzz\n",
            "fizz\n",
            "22\n",
            "23\n",
            "fizz\n",
            "buzz\n",
            "26\n",
            "fizz\n",
            "28\n",
            "29\n",
            "fizzbuzz\n"
          ]
        }
      ],
      "source": [
        "# fizzbuzz\n",
        "# you will need to use both iteration and control flow\n",
        "# go through all numbers from 1 to 30 in order\n",
        "# if the number is a multiple of 3, print fizz\n",
        "# if the number is a multiple of 5, print buzz\n",
        "# if the number is a multiple of 3 and 5, print fizzbuzz and NOTHING ELSE\n",
        "# if the number is neither a multiple of 3 nor a multiple of 5, print the number\n",
        "def fizzbuzz():\n",
        "  for i in range(1, 31):\n",
        "    if i % 3 == 0 and i % 5 == 0:\n",
        "      print(\"fizzbuzz\")\n",
        "    elif i % 3 == 0:\n",
        "        print(\"fizz\")\n",
        "    elif i % 5 == 0:\n",
        "        print(\"buzz\")\n",
        "    else:\n",
        "        print(i)\n",
        "\n",
        "fizzbuzz()\n"
      ]
    },
    {
      "cell_type": "code",
      "execution_count": 54,
      "id": "78aace0b",
      "metadata": {
        "execution": {
          "iopub.execute_input": "2023-09-13T19:55:18.239205Z",
          "iopub.status.busy": "2023-09-13T19:55:18.239064Z",
          "iopub.status.idle": "2023-09-13T19:55:18.241003Z",
          "shell.execute_reply": "2023-09-13T19:55:18.240650Z"
        },
        "colab": {
          "base_uri": "https://localhost:8080/"
        },
        "id": "78aace0b",
        "outputId": "fa4f05f5-5e08-41df-a35c-69a55fd07de3"
      },
      "outputs": [
        {
          "output_type": "stream",
          "name": "stdout",
          "text": [
            "{'Gyro': 9, 'Burger': 9, 'Greek salad': 8, 'Philly Steak': 10}\n"
          ]
        }
      ],
      "source": [
        "# create a dictionary that reflects the following menu pricing (taken from Ahmo's)\n",
        "# Gyro: $9\n",
        "# Burger: $9\n",
        "# Greek Salad: $8\n",
        "# Philly Steak: $10\n",
        "menu = {}\n",
        "menu[\"Gyro\"] = 9\n",
        "menu[\"Burger\"] = 9\n",
        "menu[\"Greek salad\"] = 8\n",
        "menu[\"Philly Steak\"] = 10\n",
        "print(menu)"
      ]
    },
    {
      "cell_type": "code",
      "execution_count": 55,
      "id": "08d1d474",
      "metadata": {
        "colab": {
          "base_uri": "https://localhost:8080/"
        },
        "execution": {
          "iopub.execute_input": "2023-09-13T19:55:18.242860Z",
          "iopub.status.busy": "2023-09-13T19:55:18.242718Z",
          "iopub.status.idle": "2023-09-13T19:55:18.244542Z",
          "shell.execute_reply": "2023-09-13T19:55:18.244208Z"
        },
        "id": "08d1d474",
        "outputId": "cb56e456-e2cb-42ca-9e81-6b05556d8b08"
      },
      "outputs": [
        {
          "output_type": "execute_result",
          "data": {
            "text/plain": [
              "pandas.core.frame.DataFrame"
            ]
          },
          "metadata": {},
          "execution_count": 55
        }
      ],
      "source": [
        "# load in the \"starbucks.csv\" dataset\n",
        "# refer to how we read the cereal.csv dataset in the tutorial\n",
        "import pandas as pd\n",
        "df = pd.read_csv('starbucks.csv')\n",
        "type(df)"
      ]
    },
    {
      "cell_type": "code",
      "execution_count": 70,
      "id": "68210b5f",
      "metadata": {
        "execution": {
          "iopub.execute_input": "2023-09-13T19:55:18.246545Z",
          "iopub.status.busy": "2023-09-13T19:55:18.246407Z",
          "iopub.status.idle": "2023-09-13T19:55:18.248142Z",
          "shell.execute_reply": "2023-09-13T19:55:18.247856Z"
        },
        "colab": {
          "base_uri": "https://localhost:8080/",
          "height": 269
        },
        "id": "68210b5f",
        "outputId": "cd34d232-02f7-4dac-e402-68f5c370cd77"
      },
      "outputs": [
        {
          "output_type": "execute_result",
          "data": {
            "text/plain": [
              "     calories  sugars  protein\n",
              "0           3       0      0.3\n",
              "40          5       0      0.4\n",
              "80        350      58     15.0\n",
              "120       140      20      6.0\n",
              "160       110      24      2.0\n",
              "200       200      41      3.0\n",
              "240       180      35      3.0"
            ],
            "text/html": [
              "\n",
              "  <div id=\"df-084af101-3ea2-4415-860d-288f1914a8c5\" class=\"colab-df-container\">\n",
              "    <div>\n",
              "<style scoped>\n",
              "    .dataframe tbody tr th:only-of-type {\n",
              "        vertical-align: middle;\n",
              "    }\n",
              "\n",
              "    .dataframe tbody tr th {\n",
              "        vertical-align: top;\n",
              "    }\n",
              "\n",
              "    .dataframe thead th {\n",
              "        text-align: right;\n",
              "    }\n",
              "</style>\n",
              "<table border=\"1\" class=\"dataframe\">\n",
              "  <thead>\n",
              "    <tr style=\"text-align: right;\">\n",
              "      <th></th>\n",
              "      <th>calories</th>\n",
              "      <th>sugars</th>\n",
              "      <th>protein</th>\n",
              "    </tr>\n",
              "  </thead>\n",
              "  <tbody>\n",
              "    <tr>\n",
              "      <th>0</th>\n",
              "      <td>3</td>\n",
              "      <td>0</td>\n",
              "      <td>0.3</td>\n",
              "    </tr>\n",
              "    <tr>\n",
              "      <th>40</th>\n",
              "      <td>5</td>\n",
              "      <td>0</td>\n",
              "      <td>0.4</td>\n",
              "    </tr>\n",
              "    <tr>\n",
              "      <th>80</th>\n",
              "      <td>350</td>\n",
              "      <td>58</td>\n",
              "      <td>15.0</td>\n",
              "    </tr>\n",
              "    <tr>\n",
              "      <th>120</th>\n",
              "      <td>140</td>\n",
              "      <td>20</td>\n",
              "      <td>6.0</td>\n",
              "    </tr>\n",
              "    <tr>\n",
              "      <th>160</th>\n",
              "      <td>110</td>\n",
              "      <td>24</td>\n",
              "      <td>2.0</td>\n",
              "    </tr>\n",
              "    <tr>\n",
              "      <th>200</th>\n",
              "      <td>200</td>\n",
              "      <td>41</td>\n",
              "      <td>3.0</td>\n",
              "    </tr>\n",
              "    <tr>\n",
              "      <th>240</th>\n",
              "      <td>180</td>\n",
              "      <td>35</td>\n",
              "      <td>3.0</td>\n",
              "    </tr>\n",
              "  </tbody>\n",
              "</table>\n",
              "</div>\n",
              "    <div class=\"colab-df-buttons\">\n",
              "\n",
              "  <div class=\"colab-df-container\">\n",
              "    <button class=\"colab-df-convert\" onclick=\"convertToInteractive('df-084af101-3ea2-4415-860d-288f1914a8c5')\"\n",
              "            title=\"Convert this dataframe to an interactive table.\"\n",
              "            style=\"display:none;\">\n",
              "\n",
              "  <svg xmlns=\"http://www.w3.org/2000/svg\" height=\"24px\" viewBox=\"0 -960 960 960\">\n",
              "    <path d=\"M120-120v-720h720v720H120Zm60-500h600v-160H180v160Zm220 220h160v-160H400v160Zm0 220h160v-160H400v160ZM180-400h160v-160H180v160Zm440 0h160v-160H620v160ZM180-180h160v-160H180v160Zm440 0h160v-160H620v160Z\"/>\n",
              "  </svg>\n",
              "    </button>\n",
              "\n",
              "  <style>\n",
              "    .colab-df-container {\n",
              "      display:flex;\n",
              "      gap: 12px;\n",
              "    }\n",
              "\n",
              "    .colab-df-convert {\n",
              "      background-color: #E8F0FE;\n",
              "      border: none;\n",
              "      border-radius: 50%;\n",
              "      cursor: pointer;\n",
              "      display: none;\n",
              "      fill: #1967D2;\n",
              "      height: 32px;\n",
              "      padding: 0 0 0 0;\n",
              "      width: 32px;\n",
              "    }\n",
              "\n",
              "    .colab-df-convert:hover {\n",
              "      background-color: #E2EBFA;\n",
              "      box-shadow: 0px 1px 2px rgba(60, 64, 67, 0.3), 0px 1px 3px 1px rgba(60, 64, 67, 0.15);\n",
              "      fill: #174EA6;\n",
              "    }\n",
              "\n",
              "    .colab-df-buttons div {\n",
              "      margin-bottom: 4px;\n",
              "    }\n",
              "\n",
              "    [theme=dark] .colab-df-convert {\n",
              "      background-color: #3B4455;\n",
              "      fill: #D2E3FC;\n",
              "    }\n",
              "\n",
              "    [theme=dark] .colab-df-convert:hover {\n",
              "      background-color: #434B5C;\n",
              "      box-shadow: 0px 1px 3px 1px rgba(0, 0, 0, 0.15);\n",
              "      filter: drop-shadow(0px 1px 2px rgba(0, 0, 0, 0.3));\n",
              "      fill: #FFFFFF;\n",
              "    }\n",
              "  </style>\n",
              "\n",
              "    <script>\n",
              "      const buttonEl =\n",
              "        document.querySelector('#df-084af101-3ea2-4415-860d-288f1914a8c5 button.colab-df-convert');\n",
              "      buttonEl.style.display =\n",
              "        google.colab.kernel.accessAllowed ? 'block' : 'none';\n",
              "\n",
              "      async function convertToInteractive(key) {\n",
              "        const element = document.querySelector('#df-084af101-3ea2-4415-860d-288f1914a8c5');\n",
              "        const dataTable =\n",
              "          await google.colab.kernel.invokeFunction('convertToInteractive',\n",
              "                                                    [key], {});\n",
              "        if (!dataTable) return;\n",
              "\n",
              "        const docLinkHtml = 'Like what you see? Visit the ' +\n",
              "          '<a target=\"_blank\" href=https://colab.research.google.com/notebooks/data_table.ipynb>data table notebook</a>'\n",
              "          + ' to learn more about interactive tables.';\n",
              "        element.innerHTML = '';\n",
              "        dataTable['output_type'] = 'display_data';\n",
              "        await google.colab.output.renderOutput(dataTable, element);\n",
              "        const docLink = document.createElement('div');\n",
              "        docLink.innerHTML = docLinkHtml;\n",
              "        element.appendChild(docLink);\n",
              "      }\n",
              "    </script>\n",
              "  </div>\n",
              "\n",
              "\n",
              "<div id=\"df-92900bc4-cf3e-4ef5-97cf-e7d58f4a69a0\">\n",
              "  <button class=\"colab-df-quickchart\" onclick=\"quickchart('df-92900bc4-cf3e-4ef5-97cf-e7d58f4a69a0')\"\n",
              "            title=\"Suggest charts.\"\n",
              "            style=\"display:none;\">\n",
              "\n",
              "<svg xmlns=\"http://www.w3.org/2000/svg\" height=\"24px\"viewBox=\"0 0 24 24\"\n",
              "     width=\"24px\">\n",
              "    <g>\n",
              "        <path d=\"M19 3H5c-1.1 0-2 .9-2 2v14c0 1.1.9 2 2 2h14c1.1 0 2-.9 2-2V5c0-1.1-.9-2-2-2zM9 17H7v-7h2v7zm4 0h-2V7h2v10zm4 0h-2v-4h2v4z\"/>\n",
              "    </g>\n",
              "</svg>\n",
              "  </button>\n",
              "\n",
              "<style>\n",
              "  .colab-df-quickchart {\n",
              "      --bg-color: #E8F0FE;\n",
              "      --fill-color: #1967D2;\n",
              "      --hover-bg-color: #E2EBFA;\n",
              "      --hover-fill-color: #174EA6;\n",
              "      --disabled-fill-color: #AAA;\n",
              "      --disabled-bg-color: #DDD;\n",
              "  }\n",
              "\n",
              "  [theme=dark] .colab-df-quickchart {\n",
              "      --bg-color: #3B4455;\n",
              "      --fill-color: #D2E3FC;\n",
              "      --hover-bg-color: #434B5C;\n",
              "      --hover-fill-color: #FFFFFF;\n",
              "      --disabled-bg-color: #3B4455;\n",
              "      --disabled-fill-color: #666;\n",
              "  }\n",
              "\n",
              "  .colab-df-quickchart {\n",
              "    background-color: var(--bg-color);\n",
              "    border: none;\n",
              "    border-radius: 50%;\n",
              "    cursor: pointer;\n",
              "    display: none;\n",
              "    fill: var(--fill-color);\n",
              "    height: 32px;\n",
              "    padding: 0;\n",
              "    width: 32px;\n",
              "  }\n",
              "\n",
              "  .colab-df-quickchart:hover {\n",
              "    background-color: var(--hover-bg-color);\n",
              "    box-shadow: 0 1px 2px rgba(60, 64, 67, 0.3), 0 1px 3px 1px rgba(60, 64, 67, 0.15);\n",
              "    fill: var(--button-hover-fill-color);\n",
              "  }\n",
              "\n",
              "  .colab-df-quickchart-complete:disabled,\n",
              "  .colab-df-quickchart-complete:disabled:hover {\n",
              "    background-color: var(--disabled-bg-color);\n",
              "    fill: var(--disabled-fill-color);\n",
              "    box-shadow: none;\n",
              "  }\n",
              "\n",
              "  .colab-df-spinner {\n",
              "    border: 2px solid var(--fill-color);\n",
              "    border-color: transparent;\n",
              "    border-bottom-color: var(--fill-color);\n",
              "    animation:\n",
              "      spin 1s steps(1) infinite;\n",
              "  }\n",
              "\n",
              "  @keyframes spin {\n",
              "    0% {\n",
              "      border-color: transparent;\n",
              "      border-bottom-color: var(--fill-color);\n",
              "      border-left-color: var(--fill-color);\n",
              "    }\n",
              "    20% {\n",
              "      border-color: transparent;\n",
              "      border-left-color: var(--fill-color);\n",
              "      border-top-color: var(--fill-color);\n",
              "    }\n",
              "    30% {\n",
              "      border-color: transparent;\n",
              "      border-left-color: var(--fill-color);\n",
              "      border-top-color: var(--fill-color);\n",
              "      border-right-color: var(--fill-color);\n",
              "    }\n",
              "    40% {\n",
              "      border-color: transparent;\n",
              "      border-right-color: var(--fill-color);\n",
              "      border-top-color: var(--fill-color);\n",
              "    }\n",
              "    60% {\n",
              "      border-color: transparent;\n",
              "      border-right-color: var(--fill-color);\n",
              "    }\n",
              "    80% {\n",
              "      border-color: transparent;\n",
              "      border-right-color: var(--fill-color);\n",
              "      border-bottom-color: var(--fill-color);\n",
              "    }\n",
              "    90% {\n",
              "      border-color: transparent;\n",
              "      border-bottom-color: var(--fill-color);\n",
              "    }\n",
              "  }\n",
              "</style>\n",
              "\n",
              "  <script>\n",
              "    async function quickchart(key) {\n",
              "      const quickchartButtonEl =\n",
              "        document.querySelector('#' + key + ' button');\n",
              "      quickchartButtonEl.disabled = true;  // To prevent multiple clicks.\n",
              "      quickchartButtonEl.classList.add('colab-df-spinner');\n",
              "      try {\n",
              "        const charts = await google.colab.kernel.invokeFunction(\n",
              "            'suggestCharts', [key], {});\n",
              "      } catch (error) {\n",
              "        console.error('Error during call to suggestCharts:', error);\n",
              "      }\n",
              "      quickchartButtonEl.classList.remove('colab-df-spinner');\n",
              "      quickchartButtonEl.classList.add('colab-df-quickchart-complete');\n",
              "    }\n",
              "    (() => {\n",
              "      let quickchartButtonEl =\n",
              "        document.querySelector('#df-92900bc4-cf3e-4ef5-97cf-e7d58f4a69a0 button');\n",
              "      quickchartButtonEl.style.display =\n",
              "        google.colab.kernel.accessAllowed ? 'block' : 'none';\n",
              "    })();\n",
              "  </script>\n",
              "</div>\n",
              "    </div>\n",
              "  </div>\n"
            ]
          },
          "metadata": {},
          "execution_count": 70
        }
      ],
      "source": [
        "# output the calories, sugars, and protein columns only of every 40th row.\n",
        "df.loc[::40, [\"calories\", \"sugars\", \"protein\"]]\n",
        "#df.loc[40, [\"calories\", \"sugars\", \"protein\"]]"
      ]
    },
    {
      "cell_type": "code",
      "execution_count": null,
      "id": "ac0f0c12",
      "metadata": {
        "execution": {
          "iopub.execute_input": "2023-09-13T19:55:18.249752Z",
          "iopub.status.busy": "2023-09-13T19:55:18.249630Z",
          "iopub.status.idle": "2023-09-13T19:55:18.251368Z",
          "shell.execute_reply": "2023-09-13T19:55:18.251064Z"
        },
        "id": "ac0f0c12"
      },
      "outputs": [],
      "source": [
        "# select all rows with more than and including 400 calories\n"
      ]
    },
    {
      "cell_type": "code",
      "execution_count": null,
      "id": "ee8f8241",
      "metadata": {
        "execution": {
          "iopub.execute_input": "2023-09-13T19:55:18.253060Z",
          "iopub.status.busy": "2023-09-13T19:55:18.252933Z",
          "iopub.status.idle": "2023-09-13T19:55:18.254668Z",
          "shell.execute_reply": "2023-09-13T19:55:18.254341Z"
        },
        "id": "ee8f8241"
      },
      "outputs": [],
      "source": [
        "# select all rows whose vitamin c content is higher than the iron content\n"
      ]
    },
    {
      "cell_type": "code",
      "execution_count": null,
      "id": "d4de48bb",
      "metadata": {
        "execution": {
          "iopub.execute_input": "2023-09-13T19:55:18.256290Z",
          "iopub.status.busy": "2023-09-13T19:55:18.256183Z",
          "iopub.status.idle": "2023-09-13T19:55:18.257820Z",
          "shell.execute_reply": "2023-09-13T19:55:18.257545Z"
        },
        "id": "d4de48bb"
      },
      "outputs": [],
      "source": [
        "# create a new column containing the caffeine per calories of each drink\n"
      ]
    },
    {
      "cell_type": "code",
      "execution_count": null,
      "id": "5a706278",
      "metadata": {
        "execution": {
          "iopub.execute_input": "2023-09-13T19:55:18.259297Z",
          "iopub.status.busy": "2023-09-13T19:55:18.259193Z",
          "iopub.status.idle": "2023-09-13T19:55:18.260791Z",
          "shell.execute_reply": "2023-09-13T19:55:18.260526Z"
        },
        "id": "5a706278"
      },
      "outputs": [],
      "source": [
        "# what is the average calorie across all items?\n"
      ]
    },
    {
      "cell_type": "code",
      "execution_count": null,
      "id": "8913e1d1",
      "metadata": {
        "execution": {
          "iopub.execute_input": "2023-09-13T19:55:18.262214Z",
          "iopub.status.busy": "2023-09-13T19:55:18.262130Z",
          "iopub.status.idle": "2023-09-13T19:55:18.263673Z",
          "shell.execute_reply": "2023-09-13T19:55:18.263423Z"
        },
        "id": "8913e1d1"
      },
      "outputs": [],
      "source": [
        "# how many different categories of beverages are there?\n"
      ]
    },
    {
      "cell_type": "code",
      "execution_count": null,
      "id": "c492d0b5",
      "metadata": {
        "execution": {
          "iopub.execute_input": "2023-09-13T19:55:18.265097Z",
          "iopub.status.busy": "2023-09-13T19:55:18.265015Z",
          "iopub.status.idle": "2023-09-13T19:55:18.266615Z",
          "shell.execute_reply": "2023-09-13T19:55:18.266362Z"
        },
        "id": "c492d0b5"
      },
      "outputs": [],
      "source": [
        "# what is the average # calories for each beverage category?\n"
      ]
    }
  ],
  "metadata": {
    "kernelspec": {
      "display_name": "Python 3.9.0 64-bit",
      "language": "python",
      "name": "python3"
    },
    "language_info": {
      "codemirror_mode": {
        "name": "ipython",
        "version": 3
      },
      "file_extension": ".py",
      "mimetype": "text/x-python",
      "name": "python",
      "nbconvert_exporter": "python",
      "pygments_lexer": "ipython3",
      "version": "3.11.5"
    },
    "vscode": {
      "interpreter": {
        "hash": "6cf8df3ff69f85f626faf55c10df6fe2cb9d1236b4dc73844ee4dc01369c2c99"
      }
    },
    "colab": {
      "provenance": [],
      "include_colab_link": true
    }
  },
  "nbformat": 4,
  "nbformat_minor": 5
}